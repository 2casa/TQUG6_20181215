{
 "cells": [
  {
   "cell_type": "markdown",
   "metadata": {},
   "source": [
    "# ファクターモデルによる株式運用ワークフロー\n",
    "\n",
    "このNotebookは、Blog記事[A Professional Quant Equity Workflow](https://blog.quantopian.com/a-professional-quant-equity-workflow/)をベースに、今回の勉強会に合わせて加筆・修正をしています。\n",
    "\n",
    "\n",
    "## はじめに\n",
    "\n",
    "Part2.は「アルゴリズムトレーディングにおける汎用的なワークフロー」が、Quantopian上でどのように実行するのか？をテーマに各種機能を概観してきました。ここまでの機能を使うことで、アルゴリズムを書くことは勿論可能です。\n",
    "\n",
    "しかし、ここまでの知識でアルゴリズムを組んだ場合、同時に投資を行っている銘柄が複数あったとしても、個別銘柄毎に売買シグナルをチェックしているにすぎず、ポートフォリオ全体での視点が抜けてしまいます。「Aの銘柄は買い、Bの銘柄は売り、Cの銘柄は...」と判断していますが、その投資判断「全体」に対しての視点を含んでいません。\n",
    "\n",
    "そこで、Part3.では汎用的なワークフローから一歩踏み込み、\n",
    "\n",
    "* 銘柄そのものではなく、銘柄が持つファクターに着目・比較することで銘柄間の関係を把握。\n",
    "* ファクターに対して効率的に投資を行うポートフォリオの構築することで「山を見る」。\n",
    "\n",
    "というワークフローに目を向けます。\n",
    "\n",
    "このような株式運用ワークフローに対して、Quantopianがどのように機能を実現しているのかを理解するのがPart3.の目標です。"
   ]
  },
  {
   "cell_type": "markdown",
   "metadata": {},
   "source": [
    "## ワークフロー\n",
    "\n",
    "![図](https://media.quantopian.com/blog/cio-blog-image-2x-1.png)\n",
    "Blog記事[A Professional Quant Equity Workflow](https://blog.quantopian.com/a-professional-quant-equity-workflow/)より転載\n",
    "\n",
    "ワークフローの各プロセスについて説明します"
   ]
  },
  {
   "cell_type": "markdown",
   "metadata": {},
   "source": [
    "## ワークフロー\n",
    "さて、クオンツ運用を行うためには、どのような作業が必要でしょうか？そのワークフローを説明します。\n",
    "\n",
    "### 1.Data\n",
    "まず、データセットを用意します。クオンツは計量的に株式投資を行うため、データが必要不可欠です。クオンツ運用の第一歩は、大量のデータから金脈を探しだすことから始まります"
   ]
  },
  {
   "cell_type": "markdown",
   "metadata": {},
   "source": [
    "### 2.Universe Definition\n",
    "投資戦略を考える前に、適切なユニバースに銘柄を絞り込みます。この理由については、既に説明したとおりです。"
   ]
  },
  {
   "cell_type": "markdown",
   "metadata": {},
   "source": [
    "### 3.Alpha Discovery\n",
    "\n",
    "アルファは、ユニバース銘柄のクロスセクション分析によって求められた実数ベクトルとして表現されます。ベクトル内の数値は、将来リターンの相対的な大きさを表します。アルファは「ファクター」とも呼ばれます。Quantopianではアルファとファクターは、同じ意味で用いています。アルファを発見するためには仮説を立て、仮説の検証を行うことの繰り返しです。\n",
    "\n",
    "* 有名なアノマリーの例\n",
    "  * 小型株効果 : 企業規模が小さい銘柄のパフォーマンスはは良い\n",
    "  * January Effect : １月のリターンは他の月よりも高くなる\n",
    "  * Low Book Value : 割安株効果\n",
    "  * Neglected Stocks : ネグレクト（アナリストがカバーしていない銘柄）\n"
   ]
  },
  {
   "cell_type": "markdown",
   "metadata": {},
   "source": [
    "### 4.Alpha Combination\n",
    "\n",
    "アノマリーは多くの市場参加者や研究者によって常に研究されているので、１つのアルファだけで十分な投資ストラテジーとなりうることはほぼありえません。そこで、複数のアルファを合成することが考えられます。アルファの合成の目標は、複数のアルファの重み付け方法を決定し、個々のアルファよりも高い予測能力を持つ単一のアルファを合成することです。"
   ]
  },
  {
   "cell_type": "markdown",
   "metadata": {},
   "source": [
    "### 5.Portfolio Construction\n",
    "\n",
    "この前までのステップによって計算されたアルファベクトルに基づいてポートフォリオを構築します。ポートフォリオ構築の手法には様々な方法がありますが、最も簡単な方法は、\n",
    "\n",
    "1. 個別銘柄のアルファ値でソートを行い、分位ポートフォリオ（例えば10分割）を構築し\n",
    "1. 最もアルファが高いグループのポートフォリオを買い銘柄として、\n",
    "1. 最もアルファが低いグループのポートフォリオを売り銘柄として、\n",
    "1. 同じ金額だけ購入・売却を行う。\n",
    "\n",
    "という方法です。ポートフォリオ構築はPart.4で触れるので、今の段階では、「アルファベクトルに基づいてポートフォリオを構築する」ということだけ覚えておいてください。"
   ]
  }
 ],
 "metadata": {
  "kernelspec": {
   "display_name": "Python 2",
   "language": "python",
   "name": "python2"
  },
  "language_info": {
   "codemirror_mode": {
    "name": "ipython",
    "version": 2
   },
   "file_extension": ".py",
   "mimetype": "text/x-python",
   "name": "python",
   "nbconvert_exporter": "python",
   "pygments_lexer": "ipython2",
   "version": "2.7.12"
  }
 },
 "nbformat": 4,
 "nbformat_minor": 2
}