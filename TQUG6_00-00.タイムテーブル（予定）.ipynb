{
 "cells": [
  {
   "cell_type": "markdown",
   "metadata": {},
   "source": [
    "# TQUG Vol.6 \"Fundamental Factor Model\" タイムテーブル\n",
    "\n",
    "時間は目安です。適宜休憩入れます\n",
    "\n",
    "## 13:00 Opening.\n",
    "* 会場スポンサー様よりSmartTrade社及びQuantXサービス説明\n",
    "\n",
    "## 13:10 Part.0 はじめに\n",
    "\n",
    "* 自己紹介\n",
    "* 資料配布、Quantopianセッティングなどの準備時間\n",
    "\n",
    "## 13:30  Part.1 基礎知識\n",
    "\n",
    "* 基本的な知識についての説明を行います\n",
    "  * ファンダメンタル分析ってなに？\n",
    "  * ファンダメンタル分析と、テクニカル分析\n",
    "  * アノマリー\n",
    "  * ファクターモデル\n",
    "    * 収益（リターン）は何から生じる？\n",
    "    * リターンモデルとリスクモデル\n",
    "    * 有名なリスクモデル\n",
    "      * シングルファクターモデル： -CAPM-\n",
    "      * マルチファクターモデル： - Fama-French 3factor\n",
    "      * それ以外（Barraなど、既存の商用モデルについていくつか）\n",
    "\n",
    "## 14:00  Part.2 Quantopian基礎知識\n",
    "\n",
    "* QuantopianのNotebookを使って、ファクターモデルの構築に必要な処理を学習する。\n",
    "  * Quantopianでできること\n",
    "     * パイプライン\n",
    "     * スクリーニング（フィルタリング）\n",
    "  * Quantopianで使える株価以外のデータ（ファンダメンタルデータ）\n",
    "\n",
    "## 15:00  Part.3 ファクター（アルファ）の探索\n",
    "\n",
    "* QuantopianのNotebookを使って、予測精度の高いファクター（アルファ）を発見する方法を学習する。\n",
    "  * Quant Workflow とはなにか？\n",
    "  * Alphalens を使ったアルファの探索\n",
    "    * IC(情報係数)とは？\n",
    "    * zscoreとは？\n",
    "\n",
    "## 16:00  Part.4 アルゴリズムとして登録してバックテストしよう\n",
    "\n",
    "* ここまでの内容をベースに、アルゴリズムとして登録してバックテストを行う\n",
    "  * ポートフォリオ最適化（Objective Function / Constraints）についての解説\n",
    "  * Quantopian Contest Criteria\n",
    "  * ハンズオン（ここまでの知識を使って、Quantopian Contest Criteriaをパスするアルゴリズムを作る）\n",
    "\n",
    "## 17:00  Closing. 質問会\n",
    "\n",
    "* 勉強会を通じてわからなかったこと、感想等を共有しましょう\n"
   ]
  },
  {
   "cell_type": "code",
   "execution_count": null,
   "metadata": {},
   "outputs": [],
   "source": []
  }
 ],
 "metadata": {
  "kernelspec": {
   "display_name": "Python 2",
   "language": "python",
   "name": "python2"
  },
  "language_info": {
   "codemirror_mode": {
    "name": "ipython",
    "version": 2
   },
   "file_extension": ".py",
   "mimetype": "text/x-python",
   "name": "python",
   "nbconvert_exporter": "python",
   "pygments_lexer": "ipython2",
   "version": "2.7.12"
  }
 },
 "nbformat": 4,
 "nbformat_minor": 2
}