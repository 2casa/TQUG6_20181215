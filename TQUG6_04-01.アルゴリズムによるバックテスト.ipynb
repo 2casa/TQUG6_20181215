{
 "cells": [
  {
   "cell_type": "markdown",
   "metadata": {},
   "source": [
    "# Part4. アルゴリズムとして登録してバックテストしよう\n",
    "\n",
    "## はじめに\n",
    "\n",
    "いよいよ最後のセクションです。今日の勉強会を通じて、\n",
    "\n",
    "* Part1: 本日のテーマに対しする基本的な知識の説明\n",
    "* Part2: アルゴリズムトレーディングシステムが持つべき基本的な機能を、Quantopianではどのように提供しているか？\n",
    "* Part3: アルゴリズムトレーディングの中でも「ファクター」に着目。アルファの発見という最も重要なテーマに対し、Quantopianがどのような機能を提供しているのか？\n",
    "\n",
    "を学習してきました。"
   ]
  },
  {
   "cell_type": "markdown",
   "metadata": {},
   "source": [
    "## 残されたピース\n",
    "再びQuant Workflow です。\n",
    "\n",
    "![図](https://media.quantopian.com/blog/cio-blog-image-2x-1.png)"
   ]
  },
  {
   "cell_type": "markdown",
   "metadata": {},
   "source": [
    "残されたピースは\n",
    "\n",
    "* RISK MODEL (リスクモデル)\n",
    "* OBJECTIVE FUNCTION（目的関数）\n",
    "* CONSTRAINTS (制約条件)\n",
    "* PORTFOLIO CONSTRUCTION (ポートフォリオ構築)\n",
    "\n",
    "です。これらについて、QuantopianのAlgorithmを使って理解するのがPart4.の主な目的です。"
   ]
  },
  {
   "cell_type": "markdown",
   "metadata": {},
   "source": [
    "# おしながき\n",
    "\n",
    "## 04-01.アルゴリズムをクローンしてバックテストを実行してみよう\n",
    "\n",
    "[サンプルアルゴリズム](https://www.quantopian.com/posts/tqug6-samplealgorithm-jpn)をクローンしてください。\n",
    "このアルゴリズムには、残されたピースが全て隠されています。コードをチェックしながら、それらを学習します。ここまでの知識があれば、コードの意味も分かるようになっていることでしょう。\n",
    "\n",
    "## 04-02.Quantopian Contest Criteria をチェックする\n",
    "\n",
    "バックテストIDを04-02のNotebookにコピペして、現行のアルゴリズムの基準達成状況を確認してください。\n"
   ]
  },
  {
   "cell_type": "markdown",
   "metadata": {},
   "source": [
    "## 04-03.ファクターを見つけ出して、Quantopian Contest 参加基準を満たそう！\n",
    "\n",
    "ここまでにやった内容、知識、アイデアを総動員して、Quantopian Contest Criteria をパスするアルゴリズムを完成させましょう。\n",
    "\n",
    "### 手順\n",
    "\n",
    "* 04-03のテンプレートに、make_pipline()をコピーして分析する。現在のアルゴリズムの何が悪いのかを考える。\n",
    "* パイプラインのパフォーマンス・チューニングを各自行う\n",
    "* バックテストを実行し、Quantopian Contest Criteria をパスするか確認。\n",
    "* 【出来たら】アルゴ登録。出来なくても全然ＯＫ。\n",
    "\n"
   ]
  },
  {
   "cell_type": "code",
   "execution_count": null,
   "metadata": {},
   "outputs": [],
   "source": []
  }
 ],
 "metadata": {
  "kernelspec": {
   "display_name": "Python 2",
   "language": "python",
   "name": "python2"
  },
  "language_info": {
   "codemirror_mode": {
    "name": "ipython",
    "version": 2
   },
   "file_extension": ".py",
   "mimetype": "text/x-python",
   "name": "python",
   "nbconvert_exporter": "python",
   "pygments_lexer": "ipython2",
   "version": "2.7.12"
  }
 },
 "nbformat": 4,
 "nbformat_minor": 2
}