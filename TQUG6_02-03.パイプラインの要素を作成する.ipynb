{
 "cells": [
  {
   "cell_type": "markdown",
   "metadata": {},
   "source": [
    "# パイプラインの要素を作成する\n",
    "\n",
    "このNotebookは、[TUTORIAL2 Pipeline](https://www.quantopian.com/tutorials/pipeline) の、[Factors](https://www.quantopian.com/tutorials/pipeline#lesson3)をベースに、今回の勉強会に沿った形で展開しています。\n",
    "\n",
    "\n",
    "## はじめに\n",
    "デフォルトの状態（空の状態）のパイプラインを実行すると、\n",
    "\n",
    "* 「Quantopianで利用可能な全銘柄」,「取引時刻」をインデックスとし\n",
    "* 列データを持たない（0 Columns）\n",
    "\n",
    "のDataframeを出力することを確認しました。つまりパイプラインを構築するということは、出力されるDataframeの列データを定義することを意味します。\n",
    "\n",
    "```\n",
    "F(asset, timestamp) -> float\n",
    "```\n",
    "出力されるDataframeのColumnにセットされる数値データのことを、Quantopianでは「ファクター」と呼びます。この呼び方は、今日のテーマである「ファクターモデル」を意識してつけているのではないかと思います。\n",
    "\n",
    "ファクターを計算するために、Quantopianではよく使われるものを「組み込み（Built-in）」として提供しています。[built-in Factors](https://www.quantopian.com/help#built-in-factors).\n",
    "\n",
    "まずはパイプラインの作成例として、built-in を利用してみます。ここで作成するファクターは、テクニカル分析に用いられるファクターです。\n"
   ]
  },
  {
   "cell_type": "code",
   "execution_count": null,
   "metadata": {},
   "outputs": [],
   "source": [
    "from quantopian.pipeline import Pipeline\n",
    "from quantopian.research import run_pipeline\n",
    "\n",
    "# ファクターの元データとなるデータソースをインポート（米国株価）\n",
    "from quantopian.pipeline.data.builtin import USEquityPricing\n",
    "\n",
    "# 組み込みファクターから、単純移動平均をインポート\n",
    "from quantopian.pipeline.factors import SimpleMovingAverage"
   ]
  },
  {
   "cell_type": "markdown",
   "metadata": {},
   "source": [
    "### ファクターをパイプラインに追加する\n",
    "\n",
    "空のパイプラインにファクターを追加します。\n",
    "\n",
    "SimpleMovingAverageを始めとする、全てのFactorをパイプラインで利用するためには、\n",
    "\n",
    "* inputs = 計算元となる入力データ\n",
    "* window_length = ウィンドウ期間\n",
    "\n",
    "を指定する必要があります。詳しくは、[ここ](https://www.quantopian.com/help#building-computations)を参照のこと。\n",
    "\n",
    "そして次に、作成したファクターを、パイプラインのColumnにセットします。\n",
    "\n",
    "\n",
    "以上の工程を表すコードを、先程のmake_pipeline()に対し、以下のように改造します。"
   ]
  },
  {
   "cell_type": "code",
   "execution_count": null,
   "metadata": {},
   "outputs": [],
   "source": [
    "def make_pipeline():\n",
    "    \n",
    "    # 米国株データベースから終値を取得して、10日間移動平均を計算する\n",
    "    mean_close_10 = SimpleMovingAverage(inputs=[USEquityPricing.close], window_length=10)\n",
    "    # 終値\n",
    "    latest_close = USEquityPricing.close.latest\n",
    "    \n",
    "    return Pipeline(\n",
    "        # ファクターとして、10日間移動平均と、終値を追加\n",
    "        columns={\n",
    "            '10_day_mean_close': mean_close_10,\n",
    "            'latest_close_price': latest_close\n",
    "        }\n",
    "    )"
   ]
  },
  {
   "cell_type": "markdown",
   "metadata": {},
   "source": [
    "### 【Memo】 make_pipelineでfactorを定義する際の個人的な所感\n",
    "\n",
    "パイプラインの中でファクターを定義するのは、Excelのセル内に相対セル指定を使って計算式を書いて、縦方向に計算式をコピペしているいく感覚に似ている？\n",
    "\n",
    "### run_pipelineを実行する\n",
    "\n",
    "先程と同様に、run_pipelineを実行します。\n",
    "Dataframeに、factorがセットされたことを確認します。"
   ]
  },
  {
   "cell_type": "code",
   "execution_count": null,
   "metadata": {},
   "outputs": [],
   "source": [
    "result = run_pipeline(make_pipeline(), '2018-11-01', '2018-11-05')\n",
    "result"
   ]
  },
  {
   "cell_type": "markdown",
   "metadata": {},
   "source": [
    "### マルチインデクス\n",
    "\n",
    "パイプラインの出力であるDataframeは、「営業日」「銘柄コード」をインデクスとしたDataframeとなっています。Pandasにおいて、複数のインデクスを持つDataframeをマルチインデクスと呼びます。複数期間のデータを持つパイプラインから、特定営業日をキーとしてデータを抜き出したい場合には、以下のようにします。"
   ]
  },
  {
   "cell_type": "code",
   "execution_count": null,
   "metadata": {
    "scrolled": true
   },
   "outputs": [],
   "source": [
    "result = run_pipeline(make_pipeline(), '2018-11-01', '2018-11-05')\n",
    "result.loc[(\"2018-11-01\")]"
   ]
  }
 ],
 "metadata": {
  "kernelspec": {
   "display_name": "Python 2",
   "language": "python",
   "name": "python2"
  },
  "language_info": {
   "codemirror_mode": {
    "name": "ipython",
    "version": 2
   },
   "file_extension": ".py",
   "mimetype": "text/x-python",
   "name": "python",
   "nbconvert_exporter": "python",
   "pygments_lexer": "ipython2",
   "version": "2.7.12"
  }
 },
 "nbformat": 4,
 "nbformat_minor": 1
}