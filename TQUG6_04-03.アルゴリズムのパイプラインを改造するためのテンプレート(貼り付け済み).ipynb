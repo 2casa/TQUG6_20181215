{
 "cells": [
  {
   "cell_type": "markdown",
   "metadata": {},
   "source": [
    "# アルゴリズムのパイプラインを改造するためのテンプレート\n",
    "\n",
    "\n",
    "## はじめに\n",
    "このNotebookは、04-02.で試してみたパイプラインを改造し、Part3.で学習したAlphaLensを使ってアルファのチューニングを行うためのテンプレートです\n",
    "\n",
    "### ちょっとしたTips\n",
    "アルゴリズムのパイプラインを改造する場合、パイプラインのカラムには、アルファのみ入れるようにクセをつけておくと、get_clean_factor_and_forward_returnsの引数処理が汎用的になります。\n"
   ]
  },
  {
   "cell_type": "markdown",
   "metadata": {},
   "source": [
    "## 下準備１：（必須）必要なパッケージのインポート\n",
    "アルファ（ファクター）の構築に必要なパッケージと、Alphalensの利用に必要なパッケージのインポートを行います。\n",
    "Alphalens 関連のパッケージ以外は、ここまでのNotebookで扱ってきたものです。\n",
    "必要に応じてパッケージを追加してください。\n"
   ]
  },
  {
   "cell_type": "code",
   "execution_count": null,
   "metadata": {},
   "outputs": [],
   "source": [
    "# Notebook上でパイプラインを実行する上で必要なパッケージ\n",
    "from quantopian.pipeline import Pipeline\n",
    "from quantopian.research import run_pipeline\n",
    "\n",
    "# ファクター \n",
    "from quantopian.pipeline.factors import SimpleMovingAverage\n",
    "from quantopian.pipeline.data.psychsignal import stocktwits\n",
    "from quantopian.pipeline.data import Fundamentals\n",
    "\n",
    "# ユニバース\n",
    "from quantopian.pipeline.filters import QTradableStocksUS\n",
    "\n",
    "# Alphalens\n",
    "from alphalens.tears import create_information_tear_sheet\n",
    "from alphalens.utils import get_clean_factor_and_forward_returns\n"
   ]
  },
  {
   "cell_type": "markdown",
   "metadata": {},
   "source": [
    "## 下準備２：（オプション）変数などの指定（オプション）\n",
    "\n",
    "make_pipeline()の外側で指定している変数を参照しているような場合には、以下のブロックで指定します。\n"
   ]
  },
  {
   "cell_type": "code",
   "execution_count": null,
   "metadata": {},
   "outputs": [],
   "source": [
    "# Alphalensの分析期間をデフォルト（1D,5D,10D）から変えたいときに利用\n",
    "periods = (1, 5, 20)\n",
    "\n",
    "# 変数の指定があれば、ここで便宜的にセットしてしまう\n",
    "TOTAL_POSITIONS=600\n"
   ]
  },
  {
   "cell_type": "markdown",
   "metadata": {},
   "source": [
    "## メイン作業：make_pipline() を貼り付け\n",
    "\n",
    "make_pipeline()のロジックをコピペします。**以上で作業は終了です**。\n"
   ]
  },
  {
   "cell_type": "code",
   "execution_count": null,
   "metadata": {
    "scrolled": true
   },
   "outputs": [],
   "source": [
    "def make_pipeline():\n",
    "    '''\n",
    "    アルファの構築を行う\n",
    "    ここにパイプラインのコードを張り付ける\n",
    "    '''\n",
    "    \"\"\"\n",
    "    パイプラインを作成して返す関数\n",
    "    \n",
    "    パイプラインの構築は、NotebookとAlgorithmの両方で動作させることができるので、Notebook\n",
    "    で検証したアルファをコピペしてアルゴリズムで使うことが可能。\n",
    "    【Execise】make_pipeline をNotebookにコピーして動作することを確認しよう。\n",
    "\n",
    "    Returns\n",
    "    -------\n",
    "    pipe : Pipeline\n",
    "        Represents computation we would like to perform on the assets that make\n",
    "        it through the pipeline screen.\n",
    "    \"\"\"\n",
    "    \n",
    "    # ファクターその１：バリューファクター（この時点では生データ）\n",
    "    value = Fundamentals.ebit.latest / Fundamentals.enterprise_value.latest\n",
    "    # ファクターその２：クオリティファクター（ROE）（この時点では生データ）\n",
    "    quality = Fundamentals.roe.latest\n",
    "    # ファクターその３：センチメントファクター（この時点では生データ）\n",
    "    sentiment_score = SimpleMovingAverage(\n",
    "        inputs=[stocktwits.bull_minus_bear],\n",
    "        window_length=3,\n",
    "    )\n",
    "    \n",
    "    # ユニバースはQTradableStockUS()を使う\n",
    "    universe = QTradableStocksUS()\n",
    "    \n",
    "    # 生データからwinsorizeによってスコア化\n",
    "    # バリューファクタースコア\n",
    "    value_winsorized = value.winsorize(min_percentile=0.05, max_percentile=0.95)\n",
    "    # クオリティファクタースコア\n",
    "    quality_winsorized = quality.winsorize(min_percentile=0.05, max_percentile=0.95)\n",
    "    # センチメントファクタースコア\n",
    "    sentiment_score_winsorized = sentiment_score.winsorize(min_percentile=0.05, max_percentile=0.95)\n",
    "\n",
    "    # ３つのファクターを合成して、１つのアルファを構成\n",
    "    # 【Execise】ファクターの合成方法を変えてバックテストしてみよう！\n",
    "    combined_factor = (\n",
    "        value_winsorized.zscore() + \n",
    "        quality_winsorized.zscore() + \n",
    "        sentiment_score_winsorized.zscore()\n",
    "    )\n",
    "\n",
    "    # QTradableStocks構成銘柄の中から、さらに、combined_fatctorが上位のものだけを取得\n",
    "    longs = combined_factor.top(TOTAL_POSITIONS//2, mask=universe)\n",
    "    # QTradableStocks構成銘柄の中から、さらに、combined_fatctorが下位のものだけを取得\n",
    "    shorts = combined_factor.bottom(TOTAL_POSITIONS//2, mask=universe)\n",
    "    \n",
    "    # longとshortsの構成銘柄を組み合わせることで、最終的なフィルタを構築\n",
    "    long_short_screen = (longs | shorts)\n",
    "\n",
    "    # パイプラインを作成\n",
    "    pipe = Pipeline(\n",
    "        columns={\n",
    "            # 'longs': longs,\n",
    "            # 'shorts': shorts,\n",
    "            'combined_factor': combined_factor\n",
    "        },\n",
    "        # フィルタリング（longs または shorts に含まれる銘柄でフィルタリング）\n",
    "        screen=long_short_screen\n",
    "    )\n",
    "    \n",
    "    # 作成したパイプラインを返して終了\n",
    "    return pipe"
   ]
  },
  {
   "cell_type": "markdown",
   "metadata": {},
   "source": [
    "# アルファの予測精度分析\n",
    "コード変更不要"
   ]
  },
  {
   "cell_type": "code",
   "execution_count": null,
   "metadata": {},
   "outputs": [],
   "source": [
    "# Alphalens で分析させる期間（直近から２年分を指定）\n",
    "import datetime\n",
    "start_date = (datetime.datetime.now() - datetime.timedelta(days=730)).strftime('%Y-%m-%d')\n",
    "end_date   = (datetime.datetime.now() - datetime.timedelta(days=1)).strftime('%Y-%m-%d')\n",
    "\n",
    "# パイプライン実行\n",
    "pipeline_output = run_pipeline(make_pipeline(), start_date, end_date)\n",
    "\n",
    "# Alphalenseで必要なデータの準備と実行（この３行を変える必要は多分殆どない）\n",
    "pricing_data = get_pricing(pipeline_output.index.levels[1], start_date, end_date, fields='open_price')\n",
    "factor_data = get_clean_factor_and_forward_returns(factor=pipeline_output,\n",
    "                                                            prices=pricing_data,\n",
    "                                                            periods=periods)\n",
    "create_information_tear_sheet(factor_data)"
   ]
  },
  {
   "cell_type": "markdown",
   "metadata": {},
   "source": [
    "# リターン分析\n",
    "コード変更不要\n"
   ]
  },
  {
   "cell_type": "code",
   "execution_count": null,
   "metadata": {
    "scrolled": false
   },
   "outputs": [],
   "source": [
    "from alphalens.tears import create_returns_tear_sheet\n",
    "create_returns_tear_sheet(factor_data)"
   ]
  },
  {
   "cell_type": "markdown",
   "metadata": {},
   "source": [
    "## 最後に\n",
    "納得のいくパイプラインが出来上がったら、Algorithmの方に張り付けてバックテストを実行する。\n"
   ]
  }
 ],
 "metadata": {
  "kernelspec": {
   "display_name": "Python 2",
   "language": "python",
   "name": "python2"
  },
  "language_info": {
   "codemirror_mode": {
    "name": "ipython",
    "version": 2
   },
   "file_extension": ".py",
   "mimetype": "text/x-python",
   "name": "python",
   "nbconvert_exporter": "python",
   "pygments_lexer": "ipython2",
   "version": "2.7.12"
  }
 },
 "nbformat": 4,
 "nbformat_minor": 2
}