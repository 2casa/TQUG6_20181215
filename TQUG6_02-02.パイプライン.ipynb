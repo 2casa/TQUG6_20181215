{
 "cells": [
  {
   "cell_type": "markdown",
   "metadata": {},
   "source": [
    "# パイプライン\n",
    "このNotebookは、[TUTORIAL2 Pipeline](https://www.quantopian.com/tutorials/pipeline) の、[Crateing a Pipelne](https://www.quantopian.com/tutorials/pipeline#lesson2) をベースに、今回の勉強会に沿った形で展開しています。\n",
    "\n",
    "## はじめに\n",
    "「基本的なアルゴリズムの枠組み」において、\n",
    "\n",
    "* 「稼働したタイミングにおけるマーケットのデータを取得する」\n",
    "* 「取得したデータを元にシグナルを計算」\n",
    "\n",
    "というフローが出てきました。Quantopianにおいて、この２つの処理を担当するのが、「パイプライン」という機能です。\n",
    "これまで過去数回、Quantopianハンズオンに参加された方にとってはすでにおなじみかもしれませんが、Quantopianに初めて挑戦される方もいらっしゃると思いますので、かんたんにおさらいします。\n"
   ]
  },
  {
   "cell_type": "markdown",
   "metadata": {},
   "source": [
    "### パイプラインの実行に最低限必要なパッケージのインポート\n",
    "\n",
    "パイプラインを作って、動かすのに最低限必要なパッケージをインポートします。\n",
    "なお、run_pipelineは、notebook上でPipelineを動かす際に必要なもので、AlgorithmでPipelineを作成する際にはimportする必要はありません（Algorithm自体の機能として期間を指定して実行する機能が備わっているため）。\n"
   ]
  },
  {
   "cell_type": "code",
   "execution_count": null,
   "metadata": {},
   "outputs": [],
   "source": [
    "from quantopian.pipeline import Pipeline\n",
    "from quantopian.research import run_pipeline # Algorithmを作成する際は不要。"
   ]
  },
  {
   "cell_type": "markdown",
   "metadata": {},
   "source": [
    "### パイプラインのインスタンスを作成する関数の定義\n",
    "\n",
    "「インスタンス」という言葉はプログラミング用語であり、金融用語ではありません。\n",
    "Quantopianが用意したPipelineを、このNotebookで実際に使えるようにしたもの、と考えればよいと思います。\n",
    "\n",
    "インスタンスを作成する関数\"make_pipeline\"を定義します。"
   ]
  },
  {
   "cell_type": "code",
   "execution_count": null,
   "metadata": {},
   "outputs": [],
   "source": [
    "# パイプラインのインスタンスを作成する関数を定義\n",
    "def make_pipeline():\n",
    "    return Pipeline()\n"
   ]
  },
  {
   "cell_type": "code",
   "execution_count": null,
   "metadata": {},
   "outputs": [],
   "source": [
    "# パイプラインのインスタンスを作成し、\"my_pipe\" という変数にセット\n",
    "my_pipe = make_pipeline()"
   ]
  },
  {
   "cell_type": "markdown",
   "metadata": {},
   "source": [
    "### パイプラインの実行\n",
    "\n",
    "「Algorithm」画面の右側には、バックテスト期間を指定する入力エリアが存在し、またバックテストを実行するためのボタンが存在しますが、このNotebookには存在しません。\n",
    "Notebook上で動作期間を指定して、パイプラインを実行するための機能が、run_pipeline()という関数です。\n",
    "\n",
    "run_pipelineの引数（入力）として、「実行したいパイプライン」、「動作開始日」、「動作終了日」を指定して実行を行うと、pipelineの実行結果を出力します。\n"
   ]
  },
  {
   "cell_type": "code",
   "execution_count": null,
   "metadata": {},
   "outputs": [],
   "source": [
    "result = run_pipeline(my_pipe, '2018-11-01', '2018-11-01')\n",
    "result"
   ]
  },
  {
   "cell_type": "markdown",
   "metadata": {},
   "source": [
    "先程の例では、開始日と終了日が同一日でした。今度は、終了日を翌日にして結果を見てみましょう。"
   ]
  },
  {
   "cell_type": "code",
   "execution_count": null,
   "metadata": {},
   "outputs": [],
   "source": [
    "result = run_pipeline(my_pipe, '2018-11-01', '2018-11-02')\n",
    "result"
   ]
  },
  {
   "cell_type": "markdown",
   "metadata": {},
   "source": [
    "### 【まとめ】デフォルトのパイプラインを実行したときの出力結果\n",
    "行数が二倍になり、日付が2015-11-01と、2018-11-02の２つになりました。\n",
    "ここまでの結果から、デフォルトのパイプラインを実行したときに得られる結果として、以下のことが言えると思います。\n",
    "\n",
    "\n",
    "* ユニバースとして何も指定しないと、8000種類近くの銘柄がユニバース（投資対象）として選択される\n",
    "* 営業日を複数日指定すると、行要素が営業日分増加する\n",
    "* デフォルト状態の返り値には、列データが存在しない（ 0 Columns）\n",
    "* パイプラインの帰り値は、PandasのDataframeが出力される。\n",
    "\n",
    "つまり、パイプラインを作成することとは、\n",
    "\n",
    "* より現実的なユニバースを何らかの方法を使って選択する。\n",
    "* 絞り込まれたユニバースに対し、データ取得を実行\n",
    "* シグナルを計算し、返り値となるDataframeの列データとして格納する\n",
    "\n",
    "という操作を実行することです。resultとして渡されたDataframeは、「営業日-銘柄」をインデックスとしてアクセス可能になります。\n",
    "\n",
    "最後にちょっとしたハンズオンです。試してみてください。"
   ]
  },
  {
   "cell_type": "code",
   "execution_count": null,
   "metadata": {},
   "outputs": [],
   "source": [
    "# 開始日と終了日の間に休場日が含まれていた場合、Datasetはどのように返ってくるか？\n",
    "\n",
    "result = run_pipeline(my_pipe, 'yyyy-mm-dd', 'yyy-mm-dd')\n",
    "result"
   ]
  }
 ],
 "metadata": {
  "kernelspec": {
   "display_name": "Python 2",
   "language": "python",
   "name": "python2"
  },
  "language_info": {
   "codemirror_mode": {
    "name": "ipython",
    "version": 2
   },
   "file_extension": ".py",
   "mimetype": "text/x-python",
   "name": "python",
   "nbconvert_exporter": "python",
   "pygments_lexer": "ipython2",
   "version": "2.7.12"
  }
 },
 "nbformat": 4,
 "nbformat_minor": 1
}