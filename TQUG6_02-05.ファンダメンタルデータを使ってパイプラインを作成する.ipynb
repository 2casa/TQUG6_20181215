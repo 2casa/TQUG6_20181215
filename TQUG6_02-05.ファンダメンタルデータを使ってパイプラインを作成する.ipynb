{
 "cells": [
  {
   "cell_type": "markdown",
   "metadata": {},
   "source": [
    "# ファンダメンタルデータを使ってパイプラインを作成する\n",
    "\n",
    "このNotebookは、\"ResearchNotebooks-Tutorial and Documentation\" の１つである\"5. Tutorial - Using Fundamental Data\" をベースに、今回の勉強会に沿った形で加筆・修正を行っています。このファイルは、デフォルトで全員のResearchフォルダに保存されているはずです。\n",
    "\n",
    "## はじめに\n",
    "ここまでにおいて 「パイプラインの作り方」「ファクターの作り方」「フィルター（ユニバース）の作り方」を見てきました。このNotebookでは、今回のテーマである\"ファンダメンタル\"データへのアクセス方法を説明します。\n",
    "\n",
    "これらを合わせることによって、いよいよ「ファンダメンタルファクターモデル」を作るための材料を揃えることができます。\n"
   ]
  },
  {
   "cell_type": "code",
   "execution_count": null,
   "metadata": {},
   "outputs": [],
   "source": [
    "# パイプラインの作成、及びパイプラインの実行に必要なパッケージのインポート\n",
    "from quantopian.pipeline import Pipeline\n",
    "from quantopian.research import run_pipeline\n",
    "\n",
    "# 今回の主役\n",
    "from quantopian.pipeline.data import Fundamentals\n",
    "# 株価データ（脇役）\n",
    "from quantopian.pipeline.data.builtin import USEquityPricing\n",
    "\n",
    "# ユニバース\n",
    "from quantopian.pipeline.experimental import QTradableStocksUS"
   ]
  },
  {
   "cell_type": "code",
   "execution_count": null,
   "metadata": {},
   "outputs": [],
   "source": [
    "# We're going to need a date string for some of our queries. Let's grab one.\n",
    "import datetime\n",
    "\n",
    "today = datetime.datetime.now().strftime('%Y-%m-%d')\n",
    "today"
   ]
  },
  {
   "cell_type": "markdown",
   "metadata": {},
   "source": [
    "## ユニバースにフィルターを追加する（応用編）\n",
    "\n",
    "02-04で、QTradableStocksUS という組み込みユニバースと、自作フィルターの使い方を説明しましたが、これらを組み合わせることもできます。\n",
    "\n",
    "* big_market_cap : 直近の時価総額（＝株価 x 発行済み株式数）が 1,000,000,000ドル以上であること\n",
    "* big_pe : 直近のpeレシオ（= 株価 / 1株利益）が5倍以上\n",
    "\n",
    "いよいよ財務データが出てきました。Fundamentalsでどのようなデータが入手可能かについては[こちら](https://www.quantopian.com/help/fundamentals)を参照してください。"
   ]
  },
  {
   "cell_type": "code",
   "execution_count": null,
   "metadata": {},
   "outputs": [],
   "source": [
    "# Create pipeline filters on the market cap and p/e ratio\n",
    "big_market_cap = Fundamentals.market_cap.latest > 1e9\n",
    "big_pe = Fundamentals.pe_ratio.latest > 5\n",
    "\n",
    "# QTradableStockUS に対して、big_market_cap と big_pe の条件を追加することが可能!\n",
    "universe = QTradableStocksUS() & big_market_cap & big_pe\n",
    "\n",
    "# パイプライン作成\n",
    "pipe = pipe = Pipeline(\n",
    "    columns = {\n",
    "        'pe_ratio' : Fundamentals.pe_ratio.latest,\n",
    "        'market_cap' : Fundamentals.market_cap.latest,\n",
    "    },\n",
    "    # Universeを指定\n",
    "    screen = universe\n",
    ")\n",
    "\n",
    "# Run the pipeline\n",
    "fundamental_data = run_pipeline(pipe, start_date = today, end_date = today)\n",
    "fundamental_data.head()"
   ]
  },
  {
   "cell_type": "markdown",
   "metadata": {},
   "source": [
    "パイプラインの出力はpandas.Dataframeで渡されるので、pandasの機能で分析することが可能です。せっかくなので、ここ数日のニュースに関連した話題でDataframeを操作します。\n",
    "\n",
    "iPhone売れ行き不調を受けてアップルの株価が下落していることから、時価総額世界一の座はアップル、アマゾン、マイクロソフトの三つ巴の争いとなっていることが話題となっています。さて、今現在の時価総額世界一の企業はどこでしょうか？\n"
   ]
  },
  {
   "cell_type": "code",
   "execution_count": null,
   "metadata": {},
   "outputs": [],
   "source": [
    "# pandasのsort_valuesを使って、時価総額の大きい順にソート\n",
    "fundamental_data.sort_values('market_cap',ascending=False).head()"
   ]
  },
  {
   "cell_type": "markdown",
   "metadata": {},
   "source": [
    "パイプラインのstart_date と end_date を変更することで、株価や出来高同様、時系列データとして取得することも可能です。"
   ]
  },
  {
   "cell_type": "code",
   "execution_count": null,
   "metadata": {},
   "outputs": [],
   "source": [
    "days_ago_100 = (datetime.datetime.now() - datetime.timedelta(days=100)).strftime('%Y-%m-%d')\n",
    "fundamental_data = run_pipeline(pipe, start_date = days_ago_100, end_date = today)\n",
    "\n",
    "fundamental_data.head()"
   ]
  }
 ],
 "metadata": {
  "kernelspec": {
   "display_name": "Python 2",
   "language": "python",
   "name": "python2"
  },
  "language_info": {
   "codemirror_mode": {
    "name": "ipython",
    "version": 2
   },
   "file_extension": ".py",
   "mimetype": "text/x-python",
   "name": "python",
   "nbconvert_exporter": "python",
   "pygments_lexer": "ipython2",
   "version": "2.7.12"
  }
 },
 "nbformat": 4,
 "nbformat_minor": 1
}