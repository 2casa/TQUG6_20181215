{
 "cells": [
  {
   "cell_type": "markdown",
   "metadata": {},
   "source": [
    "# Alphalensを使って、アルファを評価する\n",
    "\n",
    "このNotebookは、\"TUTORIAL3 Alphalens\"の[Lesson2](https://www.quantopian.com/tutorials/alphalens#lesson2)と、[Lesson3](https://www.quantopian.com/tutorials/alphalens#lesson3)をベースに、今回の勉強会に合わせて加筆・修正をしています。\n",
    "\n",
    "## はじめに\n",
    "先程のNotebookで、[quant workflow](https://blog.quantopian.com/a-professional-quant-equity-workflow/) を説明しました。このNotebookでは、ワークフロー中の「Alpha discovery」を実際に試してみます。\n",
    "\n",
    "アルファの発見、言い換えれば、「将来のリターンを生み出すファクター」を見つけ出すためには\n",
    "\n",
    "* 仮説（アルファの候補）を立て\n",
    "* 仮説が正しいかどうかを検証する\n",
    "* うまく行かなければ仮説の立て直し\n",
    "\n",
    "の繰り返しです。では、仮説の検証はどのように行えばよいでしょうか？また、複数のアルファの候補の中での優劣はどのように決めればよいでしょうか？\n",
    "\n",
    "Quantopianでは、アルファの発見というワークフローを手助けしてくれるAlphalensというパッケージを提供しています。このNotebookでは、Alphalensを使ったアルファ発見の手順を学習します。\n"
   ]
  },
  {
   "cell_type": "markdown",
   "metadata": {},
   "source": [
    "### ファンダメンタルデータを使って、アルファを構築する\n",
    "\n",
    "いよいよ今回の勉強会のテーマである「ファンダメンタルファクターモデル」の核心に触れていきます。ここでは、「純利益(net income)」と、「時価総額(market cap)」をベースにアルファを構築します。\n",
    "\n",
    "\n",
    "この表内の２つの変数間の相関を計算したものがICです。アルファの順位が高いとき、将来リターンの順位も高ければ、アルファが将来リターンの予測の良い指標になっている、ということです。\n"
   ]
  },
  {
   "cell_type": "markdown",
   "metadata": {},
   "source": [
    "\n",
    "# アルファの良し悪しを計測する指標: IC (Information Coeeficient)\n",
    "\n",
    "ここでアルファの良し悪しを計測する指標として、IC(Information Coefficient)を導入します。\n",
    "\n",
    "\n",
    "$$ IC = \\rho (\\alpha, acutual return) $$\n",
    "\n",
    "数学的には[スピアマンの順位相関係数](https://ja.wikipedia.org/wiki/%E3%82%B9%E3%83%94%E3%82%A2%E3%83%9E%E3%83%B3%E3%81%AE%E9%A0%86%E4%BD%8D%E7%9B%B8%E9%96%A2%E4%BF%82%E6%95%B0)\n",
    "という統計学上のテクニックを応用します。\n",
    "\n",
    "簡単にいうと、**アルファの値（予測リターン）と、将来リターンとの（順位）相関係数を表していて、-1から+1の値を取ります。** 相関係数なので、ICが0以上（※）であれば、そのアルファは何らかの予測能力を持つと考えられます。\n",
    "\n",
    "（※）ICの値がマイナスの場合は**逆神様**と呼ばれることになるでしょう。\n",
    "\n"
   ]
  },
  {
   "cell_type": "markdown",
   "metadata": {},
   "source": [
    "\n",
    "## 【参考】順位相関の考え方\n",
    "\n",
    "例えば今日（2018/12/15時点）においては、2018/12/14までのデータを利用することができます。\n",
    "* アルファの順位\n",
    "  * 2018/12/03時点で利用可能なデータを使って、ユニバース内の銘柄に対してアルファを計算し、アルファの大きい順にソートして順位付けしたもの\n",
    "* 将来リターンの順位\n",
    "  * 2018/12/03の株価と、2018/12/10の株価を使って（週次）リターンを計算し、リターンの大きい順位ノートして順位付けしたもの\n",
    "\n",
    "その結果は、以下のような表になるはずです。\n",
    "\n",
    "|銘柄|アルファの順位|将来リターンの順位|\n",
    "|:--:|:-:|:-:|\n",
    "|A|6|10|\n",
    "|B|4|1|\n",
    "|C|5|4|\n",
    "|D|10|9|\n",
    "|E|2|3|\n",
    "\n",
    "もしアルファが将来リターンの予測に役立つのであれば、「アルファの順位が高い⇒将来リターンの順位も高い」という正の相関関係があるはず、というのがICの考え方です。\n",
    "\n"
   ]
  },
  {
   "cell_type": "markdown",
   "metadata": {},
   "source": [
    "## Alphalens を使えば全て解決！\n",
    "\n",
    "ICの計算式を特に記述しませんでしたが、心配しなくて大丈夫です。Quantopianが提供している\"Alphalens\"というパッケージを使えば、ICの計算や分析結果の可視化を全て自動化してくれます。自分でやらなければならないのは、\n",
    "\n",
    "* アルファ（ファクター）の構築\n",
    "* Alphalensで必要なデータの準備\n",
    "\n",
    "だけです。以下で具体的なコードを見ていきます。\n",
    "\n",
    "### 下準備：必要なパッケージのインポート\n",
    "アルファ（ファクター）の構築に必要なパッケージと、Alphalensの利用に必要なパッケージのインポートを行います。\n",
    "Alphalens 関連のパッケージ以外は、ここまでのNotebookで扱ってきたものです。"
   ]
  },
  {
   "cell_type": "code",
   "execution_count": null,
   "metadata": {},
   "outputs": [],
   "source": [
    "# この例ではfactsetが提供しているデータ・セットを利用\n",
    "from quantopian.pipeline.data import factset\n",
    "\n",
    "# Notebook上でパイプラインを実行する上で必要なパッケージ\n",
    "from quantopian.pipeline import Pipeline\n",
    "from quantopian.research import run_pipeline\n",
    "\n",
    "# ファクター \n",
    "from quantopian.pipeline.factors import SimpleMovingAverage\n",
    "\n",
    "# ユニバース\n",
    "from quantopian.pipeline.filters import QTradableStocksUS\n",
    "\n",
    "# Alphalens\n",
    "from alphalens.tears import create_information_tear_sheet\n",
    "from alphalens.utils import get_clean_factor_and_forward_returns\n"
   ]
  },
  {
   "cell_type": "markdown",
   "metadata": {},
   "source": [
    "### （その１）アルファ（ファクター）の構築\n",
    "\n",
    "make_pipeline()でアルファの構築を行います。"
   ]
  },
  {
   "cell_type": "code",
   "execution_count": null,
   "metadata": {
    "scrolled": true
   },
   "outputs": [],
   "source": [
    "def make_pipeline():\n",
    "    '''\n",
    "    アルファの構築を行う\n",
    "    '''\n",
    "    \n",
    "    # 過去１年間の純利益の単純移動平均（ファクターの元データ）\n",
    "    net_income_moving_average = SimpleMovingAverage( \n",
    "        inputs=[factset.Fundamentals.net_inc_af], \n",
    "        window_length=252\n",
    "    )\n",
    "    \n",
    "    # 過去１年間の時価総額の単純移動平均（ファクターの元データ）\n",
    "    market_cap_moving_average = SimpleMovingAverage( \n",
    "        inputs=[factset.Fundamentals.mkt_val], \n",
    "        window_length=252\n",
    "    )\n",
    "    \n",
    "    # 純利益当たりの時価総額\n",
    "    average_market_cap_per_net_income = (market_cap_moving_average / net_income_moving_average)\n",
    "    \n",
    "    # 直近四半期の純利益\n",
    "    net_income = factset.Fundamentals.net_inc_qf.latest \n",
    "    \n",
    "    # （時価総額移動平均 / 純利益移動平均） *  直近四半期の純利益　⇒ （過去１年間の平均的な）時価総額\n",
    "    projected_market_cap = average_market_cap_per_net_income * net_income\n",
    "    \n",
    "    return Pipeline(\n",
    "        columns = {'projected_market_cap': projected_market_cap},\n",
    "        screen = QTradableStocksUS() & projected_market_cap.notnull()\n",
    "    )"
   ]
  },
  {
   "cell_type": "markdown",
   "metadata": {},
   "source": [
    "### （その２）Alphalenseで必要なデータの準備\n",
    "\n",
    "Alphalensで必要なデータの準備は、\n",
    "\n",
    "* run_pipeline() : アルファの計算を実行\n",
    "* get_pricing() : パイプラインに含まれる銘柄の株価を取得\n",
    "* get_clean_factor_and_forward_returns : アルファと株価の紐づけをして、（アルファ計算時点から見て）将来のリターンを行う\n",
    "\n",
    "をそれぞれ実行すればＯＫです。\n",
    "そして最後に、\n",
    "\n",
    "* create_information_tear_sheet で分析結果を可視化\n",
    "\n",
    "です。この部分でユーザが決めなければいけないのは分析期間だけです。"
   ]
  },
  {
   "cell_type": "code",
   "execution_count": null,
   "metadata": {},
   "outputs": [],
   "source": [
    "# Alphalens で分析させる期間\n",
    "start_date= '2016-1-1'\n",
    "end_date='2017-12-1'\n",
    "\n",
    "# パイプライン実行\n",
    "pipeline_output = run_pipeline(make_pipeline(), start_date, end_date)\n",
    "\n",
    "# Alphalenseで必要なデータの準備と実行（この３行を変える必要は多分殆どない）\n",
    "pricing_data = get_pricing(pipeline_output.index.levels[1], start_date, end_date, fields='open_price')\n",
    "factor_data = get_clean_factor_and_forward_returns(pipeline_output, pricing_data)\n",
    "create_information_tear_sheet(factor_data)"
   ]
  },
  {
   "cell_type": "markdown",
   "metadata": {},
   "source": [
    "### Quantopianのココがすごい！\n",
    "\n",
    "**アルファの構築以外については全てQuantopianがやってくれます。ユーザはアルファの試行錯誤に専念できるのがQuantopianのスゴいところだと思います** "
   ]
  },
  {
   "cell_type": "markdown",
   "metadata": {},
   "source": [
    "# 複数のアルファファクターを合成する\n",
    "\n",
    "上で実行したアルファは時価総額をベースに計算しました。下の例では、これに\"price_to_book\"というファクターを**合成して**新しいアルファを構築しようとしています。"
   ]
  },
  {
   "cell_type": "code",
   "execution_count": null,
   "metadata": {
    "scrolled": true
   },
   "outputs": [],
   "source": [
    "def make_pipeline():\n",
    "\n",
    "    net_income_moving_average = SimpleMovingAverage( # 1 year moving average of year over year net income\n",
    "        inputs=[factset.Fundamentals.net_inc_af], \n",
    "        window_length=252\n",
    "    )\n",
    "    \n",
    "    market_cap_moving_average = SimpleMovingAverage( # 1 year moving average of market cap\n",
    "        inputs=[factset.Fundamentals.mkt_val], \n",
    "        window_length=252\n",
    "    )\n",
    "    \n",
    "    # １つ目のファクターは先ほどと同じく計算\n",
    "    average_market_cap_per_net_income = (market_cap_moving_average / net_income_moving_average)\n",
    "    net_income = factset.Fundamentals.net_inc_qf.latest # the last quarter's net income\n",
    "    projected_market_cap = average_market_cap_per_net_income * net_income\n",
    "    \n",
    "    # ２つ目のファクター登場\n",
    "    price_to_book = factset.Fundamentals.pbk_qf.latest\n",
    "    \n",
    "    # ２つのファクターを合成（ここに注目！）。zscoreってなんぞ？\n",
    "    factor_to_analyze = projected_market_cap.zscore() + price_to_book.zscore()\n",
    "    \n",
    "    return Pipeline(\n",
    "        columns = {'factor_to_analyze': factor_to_analyze},\n",
    "        screen = QTradableStocksUS() & factor_to_analyze.notnull()\n",
    "    )\n",
    "\n",
    "pipeline_output = run_pipeline(make_pipeline(), start_date, end_date)\n",
    "pricing_data = get_pricing(pipeline_output.index.levels[1],  start_date, end_date, fields='open_price')\n",
    "new_factor_data = get_clean_factor_and_forward_returns(pipeline_output, pricing_data)\n",
    "\n",
    "create_information_tear_sheet(new_factor_data)"
   ]
  },
  {
   "cell_type": "markdown",
   "metadata": {},
   "source": [
    "# 【ポイント】アルファの合成はzscoreで正規化してから！\n",
    "\n",
    "* factor_to_analyze = projected_market_cap.zscore() + price_to_book.zscore()\n",
    "\n",
    "で合成しています。zscore()という新しい関数が登場しています。これは非常に重要なツールです！\n",
    "\n",
    "アルファが表現している数値には**銘柄間の数値の大小関係（順位）に意味があり、数値の値そのものには意味が殆どありません**。\n",
    "しかし、複数のアルファファクターを合成する場合には、それぞれのアルファの値の相対的な規模の違いが意味を持ってしまいます。\n",
    "\n",
    "例えば、平均的なアルファの値が 1～5くらいの値を取るファクターと、平均的なアルファの値が1,000～10,000くらいの値を取るファクターを単純に足し合わせて合成したらどうなるか？を考えれば、その理由がわかると思います。\n",
    "\n",
    "そこで、複数のアルファを合成する際には、zscoreという統計手法を使ってアルファの値を調整します。\n",
    "zscoreを使ってアルファの値を調整すると、どのようなマグニチュードのアルファであっても、平均を0として、-5から+5 くらいの範囲内に置き換えてくれます。\n",
    "\n",
    "これによって、先ほど例に挙げたようなマグニチュードの異なるアルファを合成しても同じような重要度で合成することができます。\n",
    "\n",
    "**複数のアルファを合成するときに重みづけしたいような場合には、zscore化してから重みづけをすればＯＫ**です。例えば、\n",
    "\n",
    "* factor_to_analyze = (0.75 * projected_market_cap.zscore()) + (0.25 * price_to_book.zscore())\n",
    "\n",
    "とすればＯＫです。\n",
    "元のアルファと比べて予測精度を向上させたかどうかをICでチェックしてみましょう。\n",
    "\n"
   ]
  },
  {
   "cell_type": "markdown",
   "metadata": {},
   "source": [
    "# アルファが利益を上げるか？\n",
    "\n",
    "アルファの予測可能性について、**IC**という指標を用いて検証する方法をみてきました。**ICを比較することで、複数のアルファの候補の中での優劣をつけることが可能になりました。**\n",
    "\n",
    "複数の候補から選びだしアルファを使って実際に運用を行ったときに利益を上げることができるか？というのが次の興味の対象となります。これはAlgorithmにおけるバックテストでも可能ですが、Notebook内で素早く検証することも可能です。\n",
    "\n",
    "`create_returns_tear_sheet()` に、アルファ分析データを渡すことで、仮想的なポートフォリオの運用シミュレーション結果をレポートしてくれます。\n",
    "\n",
    "仮想的なポートフォリオは、ユニバース銘柄を、アルファの値に応じてソートして、ユニバースを５分割することによって作成されます。これをファイナンスの世界では**分位ポートフォリオ（Quantile Portfolio）**と呼びます。\n",
    "\n",
    "もし、アルファの予測可能性が優秀であれば、\n",
    "\n",
    "* ５つのポートフォリオの平均的なリターンは、 第１＞第２＞第３＞第４＞第５　というように綺麗に並ぶ\n",
    "* 第１分位ポートフォリオの累積リターンと、第５分位ポートフォリオの累積リターンの差が綺麗に広がる\n",
    "\n",
    "でしょう。create_returns_tear_sheet()は、これを可視化してくれる便利なレポート機能です。\n",
    "\n",
    "## Execise\n",
    "create_returns_tear_sheetを実行してみて、分位ポートフォリオのリターンを確認し、評価対象となったアルファが適切なものかどうかを判断しましょう。"
   ]
  },
  {
   "cell_type": "code",
   "execution_count": null,
   "metadata": {
    "scrolled": false
   },
   "outputs": [],
   "source": [
    "from alphalens.tears import create_returns_tear_sheet\n",
    "\n",
    "create_returns_tear_sheet(factor_data)"
   ]
  }
 ],
 "metadata": {
  "kernelspec": {
   "display_name": "Python 2",
   "language": "python",
   "name": "python2"
  },
  "language_info": {
   "codemirror_mode": {
    "name": "ipython",
    "version": 2
   },
   "file_extension": ".py",
   "mimetype": "text/x-python",
   "name": "python",
   "nbconvert_exporter": "python",
   "pygments_lexer": "ipython2",
   "version": "2.7.12"
  }
 },
 "nbformat": 4,
 "nbformat_minor": 2
}